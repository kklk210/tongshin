{
 "cells": [
  {
   "cell_type": "code",
   "execution_count": 6,
   "metadata": {},
   "outputs": [
    {
     "name": "stdout",
     "output_type": "stream",
     "text": [
      "입력 파일 이름: C://Users//권기웅//Desktop//통공//numbers.txt\n",
      "출력 파일 이름: C://Users//권기웅//Desktop//통공//output.txt\n"
     ]
    }
   ],
   "source": [
    "fn = input(\"입력 파일 이름: \")\n",
    "infile = open(fn, \"r\")\n",
    "rfile = infile.readlines()\n",
    "infile.close()\n",
    "\n",
    "fn = input(\"출력 파일 이름: \")\n",
    "outfile = open(fn,\"w\")\n",
    "\n",
    "t = 0\n",
    "a = 0\n",
    "n = 0\n",
    "for s in rfile:\n",
    "    t += float(s)\n",
    "    n += 1\n",
    "a = t / n\n",
    "\n",
    "print(\"합계=\"+str(t), file = outfile, end =\"\\n\")\n",
    "print(\"평균=\"+str(a), file = outfile, end =\"\")\n",
    "\n",
    "outfile.close()"
   ]
  },
  {
   "cell_type": "code",
   "execution_count": null,
   "metadata": {},
   "outputs": [],
   "source": []
  }
 ],
 "metadata": {
  "kernelspec": {
   "display_name": "Python 3",
   "language": "python",
   "name": "python3"
  },
  "language_info": {
   "codemirror_mode": {
    "name": "ipython",
    "version": 3
   },
   "file_extension": ".py",
   "mimetype": "text/x-python",
   "name": "python",
   "nbconvert_exporter": "python",
   "pygments_lexer": "ipython3",
   "version": "3.7.6"
  }
 },
 "nbformat": 4,
 "nbformat_minor": 4
}
