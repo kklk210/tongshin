{
 "cells": [
  {
   "cell_type": "code",
   "execution_count": 7,
   "metadata": {},
   "outputs": [
    {
     "name": "stdout",
     "output_type": "stream",
     "text": [
      "반지름 100 ,원의 면적 31415.92 ,원의 둘레 628.3184\n"
     ]
    }
   ],
   "source": [
    "class Circle:\n",
    "    def calcPerimeter(self):\n",
    "        self.p = 3.141592*radius*radius\n",
    "    def calcArea(self):\n",
    "        self.a = 3.141592*2*radius\n",
    "        \n",
    "circle = Circle()\n",
    "radius = 100\n",
    "circle.calcPerimeter() \n",
    "circle.calcArea() \n",
    "print(\"반지름\",radius,\",원의 면적\",circle.p,\",원의 둘레\",circle.a) "
   ]
  },
  {
   "cell_type": "code",
   "execution_count": null,
   "metadata": {},
   "outputs": [],
   "source": []
  }
 ],
 "metadata": {
  "kernelspec": {
   "display_name": "Python 3",
   "language": "python",
   "name": "python3"
  },
  "language_info": {
   "codemirror_mode": {
    "name": "ipython",
    "version": 3
   },
   "file_extension": ".py",
   "mimetype": "text/x-python",
   "name": "python",
   "nbconvert_exporter": "python",
   "pygments_lexer": "ipython3",
   "version": "3.7.6"
  }
 },
 "nbformat": 4,
 "nbformat_minor": 4
}
